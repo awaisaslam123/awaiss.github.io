{
 "cells": [
  {
   "cell_type": "markdown",
   "id": "d90f2ec4",
   "metadata": {},
   "source": [
    "# Import Libraries"
   ]
  },
  {
   "cell_type": "code",
   "execution_count": 3,
   "id": "aa57560c",
   "metadata": {},
   "outputs": [
    {
     "name": "stderr",
     "output_type": "stream",
     "text": [
      "C:\\Users\\awais\\anaconda3\\lib\\site-packages\\scipy\\__init__.py:146: UserWarning: A NumPy version >=1.16.5 and <1.23.0 is required for this version of SciPy (detected version 1.26.3\n",
      "  warnings.warn(f\"A NumPy version >={np_minversion} and <{np_maxversion}\"\n"
     ]
    }
   ],
   "source": [
    "import pandas as pd\n",
    "import matplotlib.pyplot as plt\n",
    "import seaborn as sns\n",
    "import numpy as np\n",
    "import pandas as pd\n",
    "import numpy as np\n",
    "import matplotlib.pyplot as plt"
   ]
  },
  {
   "cell_type": "code",
   "execution_count": 4,
   "id": "31ed6a9e",
   "metadata": {},
   "outputs": [
    {
     "data": {
      "text/html": [
       "<div>\n",
       "<style scoped>\n",
       "    .dataframe tbody tr th:only-of-type {\n",
       "        vertical-align: middle;\n",
       "    }\n",
       "\n",
       "    .dataframe tbody tr th {\n",
       "        vertical-align: top;\n",
       "    }\n",
       "\n",
       "    .dataframe thead th {\n",
       "        text-align: right;\n",
       "    }\n",
       "</style>\n",
       "<table border=\"1\" class=\"dataframe\">\n",
       "  <thead>\n",
       "    <tr style=\"text-align: right;\">\n",
       "      <th></th>\n",
       "      <th>FlightID</th>\n",
       "      <th>Airport</th>\n",
       "      <th>FlightType</th>\n",
       "      <th>SatisfactionIndex</th>\n",
       "      <th>PassengerCount</th>\n",
       "      <th>FlightDuration</th>\n",
       "      <th>DelayStatus</th>\n",
       "    </tr>\n",
       "  </thead>\n",
       "  <tbody>\n",
       "    <tr>\n",
       "      <th>0</th>\n",
       "      <td>1</td>\n",
       "      <td>Airport_1</td>\n",
       "      <td>Incoming</td>\n",
       "      <td>Satisfied</td>\n",
       "      <td>100</td>\n",
       "      <td>155</td>\n",
       "      <td>Delayed</td>\n",
       "    </tr>\n",
       "    <tr>\n",
       "      <th>1</th>\n",
       "      <td>2</td>\n",
       "      <td>Airport_2</td>\n",
       "      <td>Outgoing</td>\n",
       "      <td>Dissatisfied</td>\n",
       "      <td>110</td>\n",
       "      <td>288</td>\n",
       "      <td>On Time</td>\n",
       "    </tr>\n",
       "    <tr>\n",
       "      <th>2</th>\n",
       "      <td>3</td>\n",
       "      <td>Airport_3</td>\n",
       "      <td>Outgoing</td>\n",
       "      <td>Neutral</td>\n",
       "      <td>120</td>\n",
       "      <td>33</td>\n",
       "      <td>Delayed</td>\n",
       "    </tr>\n",
       "    <tr>\n",
       "      <th>3</th>\n",
       "      <td>4</td>\n",
       "      <td>Airport_4</td>\n",
       "      <td>Incoming</td>\n",
       "      <td>Satisfied</td>\n",
       "      <td>130</td>\n",
       "      <td>124</td>\n",
       "      <td>On Time</td>\n",
       "    </tr>\n",
       "    <tr>\n",
       "      <th>4</th>\n",
       "      <td>5</td>\n",
       "      <td>Airport_5</td>\n",
       "      <td>Incoming</td>\n",
       "      <td>Dissatisfied</td>\n",
       "      <td>140</td>\n",
       "      <td>256</td>\n",
       "      <td>On Time</td>\n",
       "    </tr>\n",
       "    <tr>\n",
       "      <th>...</th>\n",
       "      <td>...</td>\n",
       "      <td>...</td>\n",
       "      <td>...</td>\n",
       "      <td>...</td>\n",
       "      <td>...</td>\n",
       "      <td>...</td>\n",
       "      <td>...</td>\n",
       "    </tr>\n",
       "    <tr>\n",
       "      <th>95</th>\n",
       "      <td>96</td>\n",
       "      <td>Airport_6</td>\n",
       "      <td>Incoming</td>\n",
       "      <td>Neutral</td>\n",
       "      <td>1000</td>\n",
       "      <td>118</td>\n",
       "      <td>Delayed</td>\n",
       "    </tr>\n",
       "    <tr>\n",
       "      <th>96</th>\n",
       "      <td>97</td>\n",
       "      <td>Airport_7</td>\n",
       "      <td>Incoming</td>\n",
       "      <td>Satisfied</td>\n",
       "      <td>1010</td>\n",
       "      <td>63</td>\n",
       "      <td>On Time</td>\n",
       "    </tr>\n",
       "    <tr>\n",
       "      <th>97</th>\n",
       "      <td>98</td>\n",
       "      <td>Airport_8</td>\n",
       "      <td>Incoming</td>\n",
       "      <td>Dissatisfied</td>\n",
       "      <td>1020</td>\n",
       "      <td>163</td>\n",
       "      <td>On Time</td>\n",
       "    </tr>\n",
       "    <tr>\n",
       "      <th>98</th>\n",
       "      <td>99</td>\n",
       "      <td>Airport_9</td>\n",
       "      <td>Outgoing</td>\n",
       "      <td>Neutral</td>\n",
       "      <td>1030</td>\n",
       "      <td>262</td>\n",
       "      <td>On Time</td>\n",
       "    </tr>\n",
       "    <tr>\n",
       "      <th>99</th>\n",
       "      <td>100</td>\n",
       "      <td>Airport_10</td>\n",
       "      <td>Incoming</td>\n",
       "      <td>Satisfied</td>\n",
       "      <td>1040</td>\n",
       "      <td>285</td>\n",
       "      <td>On Time</td>\n",
       "    </tr>\n",
       "  </tbody>\n",
       "</table>\n",
       "<p>100 rows × 7 columns</p>\n",
       "</div>"
      ],
      "text/plain": [
       "    FlightID     Airport FlightType SatisfactionIndex  PassengerCount  \\\n",
       "0          1   Airport_1   Incoming         Satisfied             100   \n",
       "1          2   Airport_2   Outgoing      Dissatisfied             110   \n",
       "2          3   Airport_3   Outgoing           Neutral             120   \n",
       "3          4   Airport_4   Incoming         Satisfied             130   \n",
       "4          5   Airport_5   Incoming      Dissatisfied             140   \n",
       "..       ...         ...        ...               ...             ...   \n",
       "95        96   Airport_6   Incoming           Neutral            1000   \n",
       "96        97   Airport_7   Incoming         Satisfied            1010   \n",
       "97        98   Airport_8   Incoming      Dissatisfied            1020   \n",
       "98        99   Airport_9   Outgoing           Neutral            1030   \n",
       "99       100  Airport_10   Incoming         Satisfied            1040   \n",
       "\n",
       "    FlightDuration DelayStatus  \n",
       "0              155     Delayed  \n",
       "1              288     On Time  \n",
       "2               33     Delayed  \n",
       "3              124     On Time  \n",
       "4              256     On Time  \n",
       "..             ...         ...  \n",
       "95             118     Delayed  \n",
       "96              63     On Time  \n",
       "97             163     On Time  \n",
       "98             262     On Time  \n",
       "99             285     On Time  \n",
       "\n",
       "[100 rows x 7 columns]"
      ]
     },
     "execution_count": 4,
     "metadata": {},
     "output_type": "execute_result"
    }
   ],
   "source": [
    "np.random.seed(0)\n",
    "\n",
    "data = {\n",
    "    \"FlightID\": range(1, 101),\n",
    "    \"Airport\": [\"Airport_\" + str(i % 10 + 1) for i in range(100)],\n",
    "    \"FlightType\": np.random.choice([\"Incoming\", \"Outgoing\"], size=100, p=[0.6, 0.4]),\n",
    "    \"SatisfactionIndex\": [\"Satisfied\" if i % 3 == 0 else \"Dissatisfied\" if i % 3 == 1 else \"Neutral\" for i in range(100)],\n",
    "    \"PassengerCount\": [round(100 + (i % 50) * 10 + (i // 10) * 50) for i in range(100)],\n",
    "    \"FlightDuration\": np.random.randint(30, 361, size=100),\n",
    "    \"DelayStatus\": np.random.choice(['Delayed', 'On Time'], size=100, p=[0.3, 0.7])\n",
    "}\n",
    "df = pd.DataFrame(data)\n",
    "\n",
    "df"
   ]
  },
  {
   "cell_type": "markdown",
   "id": "fe4efbdd",
   "metadata": {},
   "source": [
    "# DataFrame"
   ]
  },
  {
   "cell_type": "code",
   "execution_count": 5,
   "id": "1d5b2447",
   "metadata": {},
   "outputs": [
    {
     "data": {
      "text/html": [
       "<div>\n",
       "<style scoped>\n",
       "    .dataframe tbody tr th:only-of-type {\n",
       "        vertical-align: middle;\n",
       "    }\n",
       "\n",
       "    .dataframe tbody tr th {\n",
       "        vertical-align: top;\n",
       "    }\n",
       "\n",
       "    .dataframe thead th {\n",
       "        text-align: right;\n",
       "    }\n",
       "</style>\n",
       "<table border=\"1\" class=\"dataframe\">\n",
       "  <thead>\n",
       "    <tr style=\"text-align: right;\">\n",
       "      <th></th>\n",
       "      <th>FlightID</th>\n",
       "      <th>Airport</th>\n",
       "      <th>FlightType</th>\n",
       "      <th>SatisfactionIndex</th>\n",
       "      <th>PassengerCount</th>\n",
       "      <th>FlightDuration</th>\n",
       "      <th>DelayStatus</th>\n",
       "    </tr>\n",
       "  </thead>\n",
       "  <tbody>\n",
       "    <tr>\n",
       "      <th>0</th>\n",
       "      <td>1</td>\n",
       "      <td>Airport_1</td>\n",
       "      <td>Incoming</td>\n",
       "      <td>Satisfied</td>\n",
       "      <td>100</td>\n",
       "      <td>155</td>\n",
       "      <td>Delayed</td>\n",
       "    </tr>\n",
       "    <tr>\n",
       "      <th>1</th>\n",
       "      <td>2</td>\n",
       "      <td>Airport_2</td>\n",
       "      <td>Outgoing</td>\n",
       "      <td>Dissatisfied</td>\n",
       "      <td>110</td>\n",
       "      <td>288</td>\n",
       "      <td>On Time</td>\n",
       "    </tr>\n",
       "    <tr>\n",
       "      <th>2</th>\n",
       "      <td>3</td>\n",
       "      <td>Airport_3</td>\n",
       "      <td>Outgoing</td>\n",
       "      <td>Neutral</td>\n",
       "      <td>120</td>\n",
       "      <td>33</td>\n",
       "      <td>Delayed</td>\n",
       "    </tr>\n",
       "    <tr>\n",
       "      <th>3</th>\n",
       "      <td>4</td>\n",
       "      <td>Airport_4</td>\n",
       "      <td>Incoming</td>\n",
       "      <td>Satisfied</td>\n",
       "      <td>130</td>\n",
       "      <td>124</td>\n",
       "      <td>On Time</td>\n",
       "    </tr>\n",
       "    <tr>\n",
       "      <th>4</th>\n",
       "      <td>5</td>\n",
       "      <td>Airport_5</td>\n",
       "      <td>Incoming</td>\n",
       "      <td>Dissatisfied</td>\n",
       "      <td>140</td>\n",
       "      <td>256</td>\n",
       "      <td>On Time</td>\n",
       "    </tr>\n",
       "    <tr>\n",
       "      <th>...</th>\n",
       "      <td>...</td>\n",
       "      <td>...</td>\n",
       "      <td>...</td>\n",
       "      <td>...</td>\n",
       "      <td>...</td>\n",
       "      <td>...</td>\n",
       "      <td>...</td>\n",
       "    </tr>\n",
       "    <tr>\n",
       "      <th>95</th>\n",
       "      <td>96</td>\n",
       "      <td>Airport_6</td>\n",
       "      <td>Incoming</td>\n",
       "      <td>Neutral</td>\n",
       "      <td>1000</td>\n",
       "      <td>118</td>\n",
       "      <td>Delayed</td>\n",
       "    </tr>\n",
       "    <tr>\n",
       "      <th>96</th>\n",
       "      <td>97</td>\n",
       "      <td>Airport_7</td>\n",
       "      <td>Incoming</td>\n",
       "      <td>Satisfied</td>\n",
       "      <td>1010</td>\n",
       "      <td>63</td>\n",
       "      <td>On Time</td>\n",
       "    </tr>\n",
       "    <tr>\n",
       "      <th>97</th>\n",
       "      <td>98</td>\n",
       "      <td>Airport_8</td>\n",
       "      <td>Incoming</td>\n",
       "      <td>Dissatisfied</td>\n",
       "      <td>1020</td>\n",
       "      <td>163</td>\n",
       "      <td>On Time</td>\n",
       "    </tr>\n",
       "    <tr>\n",
       "      <th>98</th>\n",
       "      <td>99</td>\n",
       "      <td>Airport_9</td>\n",
       "      <td>Outgoing</td>\n",
       "      <td>Neutral</td>\n",
       "      <td>1030</td>\n",
       "      <td>262</td>\n",
       "      <td>On Time</td>\n",
       "    </tr>\n",
       "    <tr>\n",
       "      <th>99</th>\n",
       "      <td>100</td>\n",
       "      <td>Airport_10</td>\n",
       "      <td>Incoming</td>\n",
       "      <td>Satisfied</td>\n",
       "      <td>1040</td>\n",
       "      <td>285</td>\n",
       "      <td>On Time</td>\n",
       "    </tr>\n",
       "  </tbody>\n",
       "</table>\n",
       "<p>100 rows × 7 columns</p>\n",
       "</div>"
      ],
      "text/plain": [
       "    FlightID     Airport FlightType SatisfactionIndex  PassengerCount  \\\n",
       "0          1   Airport_1   Incoming         Satisfied             100   \n",
       "1          2   Airport_2   Outgoing      Dissatisfied             110   \n",
       "2          3   Airport_3   Outgoing           Neutral             120   \n",
       "3          4   Airport_4   Incoming         Satisfied             130   \n",
       "4          5   Airport_5   Incoming      Dissatisfied             140   \n",
       "..       ...         ...        ...               ...             ...   \n",
       "95        96   Airport_6   Incoming           Neutral            1000   \n",
       "96        97   Airport_7   Incoming         Satisfied            1010   \n",
       "97        98   Airport_8   Incoming      Dissatisfied            1020   \n",
       "98        99   Airport_9   Outgoing           Neutral            1030   \n",
       "99       100  Airport_10   Incoming         Satisfied            1040   \n",
       "\n",
       "    FlightDuration DelayStatus  \n",
       "0              155     Delayed  \n",
       "1              288     On Time  \n",
       "2               33     Delayed  \n",
       "3              124     On Time  \n",
       "4              256     On Time  \n",
       "..             ...         ...  \n",
       "95             118     Delayed  \n",
       "96              63     On Time  \n",
       "97             163     On Time  \n",
       "98             262     On Time  \n",
       "99             285     On Time  \n",
       "\n",
       "[100 rows x 7 columns]"
      ]
     },
     "execution_count": 5,
     "metadata": {},
     "output_type": "execute_result"
    }
   ],
   "source": [
    "df"
   ]
  },
  {
   "cell_type": "code",
   "execution_count": 14,
   "id": "8365c2c3",
   "metadata": {},
   "outputs": [
    {
     "name": "stdout",
     "output_type": "stream",
     "text": [
      "<class 'pandas.core.frame.DataFrame'>\n",
      "RangeIndex: 100 entries, 0 to 99\n",
      "Data columns (total 7 columns):\n",
      " #   Column             Non-Null Count  Dtype \n",
      "---  ------             --------------  ----- \n",
      " 0   FlightID           100 non-null    int64 \n",
      " 1   Airport            100 non-null    object\n",
      " 2   FlightType         100 non-null    object\n",
      " 3   SatisfactionIndex  100 non-null    object\n",
      " 4   PassengerCount     100 non-null    int64 \n",
      " 5   FlightDuration     100 non-null    int32 \n",
      " 6   DelayStatus        100 non-null    object\n",
      "dtypes: int32(1), int64(2), object(4)\n",
      "memory usage: 5.2+ KB\n"
     ]
    }
   ],
   "source": [
    "df.info()"
   ]
  },
  {
   "cell_type": "code",
   "execution_count": 15,
   "id": "c9485d6a",
   "metadata": {},
   "outputs": [
    {
     "data": {
      "text/html": [
       "<div>\n",
       "<style scoped>\n",
       "    .dataframe tbody tr th:only-of-type {\n",
       "        vertical-align: middle;\n",
       "    }\n",
       "\n",
       "    .dataframe tbody tr th {\n",
       "        vertical-align: top;\n",
       "    }\n",
       "\n",
       "    .dataframe thead th {\n",
       "        text-align: right;\n",
       "    }\n",
       "</style>\n",
       "<table border=\"1\" class=\"dataframe\">\n",
       "  <thead>\n",
       "    <tr style=\"text-align: right;\">\n",
       "      <th></th>\n",
       "      <th>FlightID</th>\n",
       "      <th>PassengerCount</th>\n",
       "      <th>FlightDuration</th>\n",
       "    </tr>\n",
       "  </thead>\n",
       "  <tbody>\n",
       "    <tr>\n",
       "      <th>count</th>\n",
       "      <td>100.000000</td>\n",
       "      <td>100.000000</td>\n",
       "      <td>100.00000</td>\n",
       "    </tr>\n",
       "    <tr>\n",
       "      <th>mean</th>\n",
       "      <td>50.500000</td>\n",
       "      <td>570.000000</td>\n",
       "      <td>202.37000</td>\n",
       "    </tr>\n",
       "    <tr>\n",
       "      <th>std</th>\n",
       "      <td>29.011492</td>\n",
       "      <td>249.139935</td>\n",
       "      <td>97.18894</td>\n",
       "    </tr>\n",
       "    <tr>\n",
       "      <th>min</th>\n",
       "      <td>1.000000</td>\n",
       "      <td>100.000000</td>\n",
       "      <td>33.00000</td>\n",
       "    </tr>\n",
       "    <tr>\n",
       "      <th>25%</th>\n",
       "      <td>25.750000</td>\n",
       "      <td>397.500000</td>\n",
       "      <td>122.50000</td>\n",
       "    </tr>\n",
       "    <tr>\n",
       "      <th>50%</th>\n",
       "      <td>50.500000</td>\n",
       "      <td>570.000000</td>\n",
       "      <td>211.00000</td>\n",
       "    </tr>\n",
       "    <tr>\n",
       "      <th>75%</th>\n",
       "      <td>75.250000</td>\n",
       "      <td>742.500000</td>\n",
       "      <td>288.25000</td>\n",
       "    </tr>\n",
       "    <tr>\n",
       "      <th>max</th>\n",
       "      <td>100.000000</td>\n",
       "      <td>1040.000000</td>\n",
       "      <td>358.00000</td>\n",
       "    </tr>\n",
       "  </tbody>\n",
       "</table>\n",
       "</div>"
      ],
      "text/plain": [
       "         FlightID  PassengerCount  FlightDuration\n",
       "count  100.000000      100.000000       100.00000\n",
       "mean    50.500000      570.000000       202.37000\n",
       "std     29.011492      249.139935        97.18894\n",
       "min      1.000000      100.000000        33.00000\n",
       "25%     25.750000      397.500000       122.50000\n",
       "50%     50.500000      570.000000       211.00000\n",
       "75%     75.250000      742.500000       288.25000\n",
       "max    100.000000     1040.000000       358.00000"
      ]
     },
     "execution_count": 15,
     "metadata": {},
     "output_type": "execute_result"
    }
   ],
   "source": [
    "df.describe()"
   ]
  },
  {
   "cell_type": "code",
   "execution_count": 6,
   "id": "08b75d69",
   "metadata": {},
   "outputs": [],
   "source": [
    "total_flight=df['FlightType'].value_counts()"
   ]
  },
  {
   "cell_type": "code",
   "execution_count": 7,
   "id": "b403706d",
   "metadata": {},
   "outputs": [
    {
     "data": {
      "text/plain": [
       "Incoming    62\n",
       "Outgoing    38\n",
       "Name: FlightType, dtype: int64"
      ]
     },
     "execution_count": 7,
     "metadata": {},
     "output_type": "execute_result"
    }
   ],
   "source": [
    "total_flight"
   ]
  },
  {
   "cell_type": "code",
   "execution_count": 8,
   "id": "e6c9a8fc",
   "metadata": {},
   "outputs": [
    {
     "data": {
      "text/plain": [
       "Satisfied       34.0\n",
       "Dissatisfied    33.0\n",
       "Neutral         33.0\n",
       "Name: SatisfactionIndex, dtype: float64"
      ]
     },
     "execution_count": 8,
     "metadata": {},
     "output_type": "execute_result"
    }
   ],
   "source": [
    "satisfaction_counts = df['SatisfactionIndex'].value_counts(normalize=True) * 100\n",
    "satisfaction_counts"
   ]
  },
  {
   "cell_type": "code",
   "execution_count": 9,
   "id": "7a86627c",
   "metadata": {},
   "outputs": [
    {
     "name": "stdout",
     "output_type": "stream",
     "text": [
      "\n",
      "Total Passengers: 57000\n",
      "Average Passengers per Flight: 570.0\n"
     ]
    }
   ],
   "source": [
    "total_passengers = df['PassengerCount'].sum()\n",
    "average_passengers_per_flight = df['PassengerCount'].mean()\n",
    "print(\"\\nTotal Passengers:\", total_passengers)\n",
    "print(\"Average Passengers per Flight:\", average_passengers_per_flight)"
   ]
  },
  {
   "cell_type": "code",
   "execution_count": 10,
   "id": "36fe5de2",
   "metadata": {},
   "outputs": [
    {
     "data": {
      "image/png": "[encoded data removed]",
      "text/plain": [
       "<Figure size 1008x720 with 1 Axes>"
      ]
     },
     "metadata": {
      "needs_background": "light"
     },
     "output_type": "display_data"
    }
   ],
   "source": [
    "plt.figure(figsize=(14, 10))\n",
    "sns.countplot(data=df, x='FlightType', hue='SatisfactionIndex')\n",
    "plt.title('Flight Type vs Satisfaction Index')\n",
    "plt.show()"
   ]
  },
  {
   "cell_type": "code",
   "execution_count": null,
   "id": "181b799a",
   "metadata": {},
   "outputs": [],
   "source": []
  },
  {
   "cell_type": "code",
   "execution_count": 11,
   "id": "4fe9b8e1",
   "metadata": {},
   "outputs": [
    {
     "data": {
      "image/png": "[encoded data removed]",
      "text/plain": [
       "<Figure size 504x504 with 1 Axes>"
      ]
     },
     "metadata": {},
     "output_type": "display_data"
    }
   ],
   "source": [
    "plt.figure(figsize=(7, 7))\n",
    "plt.pie(satisfaction_counts, labels=satisfaction_counts.index, autopct='%1.1f%%', startangle=140, colors=['#ff9999','#66b3ff','#99ff99'])\n",
    "plt.title('Distribution of Satisfaction Index')\n",
    "plt.show()"
   ]
  },
  {
   "cell_type": "code",
   "execution_count": 12,
   "id": "b2f4c91c",
   "metadata": {},
   "outputs": [
    {
     "data": {
      "image/png": "[encoded data removed]",
      "text/plain": [
       "<Figure size 720x432 with 1 Axes>"
      ]
     },
     "metadata": {
      "needs_background": "light"
     },
     "output_type": "display_data"
    }
   ],
   "source": [
    "flight_type_counts = df['FlightType'].value_counts(normalize=True) * 100\n",
    "\n",
    "plt.figure(figsize=(10, 6))\n",
    "flight_type_counts.plot(kind='bar', color=['#66b3ff', '#ffcc99'], edgecolor='black')\n",
    "plt.title('Percentage of Incoming and Outgoing Flights')\n",
    "plt.xlabel('Flight Type')\n",
    "plt.ylabel('Percentage')\n",
    "plt.xticks(rotation=0)\n",
    "for i in range(len(flight_type_counts)):\n",
    "    plt.text(i, flight_type_counts[i] + 1, f'{flight_type_counts[i]:.1f}%', ha='center', va='bottom')\n",
    "plt.show()"
   ]
  },
  {
   "cell_type": "code",
   "execution_count": 13,
   "id": "ec16956e",
   "metadata": {},
   "outputs": [
    {
     "data": {
      "image/png": "[encoded data removed]",
      "text/plain": [
       "<Figure size 864x576 with 1 Axes>"
      ]
     },
     "metadata": {
      "needs_background": "light"
     },
     "output_type": "display_data"
    }
   ],
   "source": [
    "\n",
    "plt.figure(figsize=(12, 8))\n",
    "colors = {'Delayed': '#ff9999', 'On Time': '#66b3ff'}\n",
    "\n",
    "for status in colors:\n",
    "    subset = df[df['DelayStatus'] == status]\n",
    "    plt.scatter(subset['FlightDuration'], subset['PassengerCount'], \n",
    "                c=colors[status], label=status, alpha=0.6, edgecolors='w', s=100)\n",
    "\n",
    "plt.title('Flight Duration vs. Passenger Count by Delay Status')\n",
    "plt.xlabel('Flight Duration (minutes)')\n",
    "plt.ylabel('Passenger Count')\n",
    "plt.legend(title='Delay Status')\n",
    "plt.grid(True)\n",
    "plt.show()"
   ]
  },
  {
   "cell_type": "code",
   "execution_count": null,
   "id": "0e2a4169",
   "metadata": {},
   "outputs": [],
   "source": []
  }
 ],
 "metadata": {
  "kernelspec": {
   "display_name": "Python 3 (ipykernel)",
   "language": "python",
   "name": "python3"
  },
  "language_info": {
   "codemirror_mode": {
    "name": "ipython",
    "version": 3
   },
   "file_extension": ".py",
   "mimetype": "text/x-python",
   "name": "python",
   "nbconvert_exporter": "python",
   "pygments_lexer": "ipython3",
   "version": "3.9.12"
  }
 },
 "nbformat": 4,
 "nbformat_minor": 5
}
